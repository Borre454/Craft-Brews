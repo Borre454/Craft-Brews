{
 "cells": [
  {
   "cell_type": "code",
   "execution_count": 1,
   "metadata": {},
   "outputs": [],
   "source": [
    "# Import Dependencies\n",
    "import pandas as pd\n",
    "from sqlalchemy import create_engine\n",
    "import csv\n",
    "import json\n",
    "import numpy as np\n",
    "import pymongo"
   ]
  },
  {
   "cell_type": "code",
   "execution_count": 2,
   "metadata": {},
   "outputs": [],
   "source": [
    "def create_json(fileLocation,column):\n",
    "    json1_file = open(fileLocation)\n",
    "    json1_str = json1_file.read()\n",
    "    json1_data = json.loads(json1_str)\n",
    "    json1_data\n",
    "\n",
    "    json_df = pd.DataFrame(json1_data).transpose()\n",
    "    # print(json_df)\n",
    "\n",
    "    count = json_df[column].count()\n",
    "    states_dict = {\"name\":\"\", \"children\":[], \"size\":count}\n",
    "    objToAddList = []\n",
    "\n",
    "    for index, row in json_df.iterrows():\n",
    "        objToAdd = {\n",
    "                \"name\": row[column],\n",
    "                \"children\": None,\n",
    "                \"size\": row['Quantity']\n",
    "            }\n",
    "        objToAddList.append(objToAdd)\n",
    "    #     print(row['State'], row['Quantity'])\n",
    "\n",
    "    states_dict[\"children\"] = objToAddList\n",
    "    states_dict[\"name\"] = column\n",
    "\n",
    "\n",
    "    return states_dict"
   ]
  },
  {
   "cell_type": "code",
   "execution_count": 4,
   "metadata": {},
   "outputs": [
    {
     "data": {
      "text/plain": [
       "{'name': 'brewery_name',\n",
       " 'children': [{'name': 'Abita Brewing Co.', 'children': None, 'size': 2},\n",
       "  {'name': 'Allagash Brewing Company', 'children': None, 'size': 2},\n",
       "  {'name': 'Anderson Valley Brewing Company', 'children': None, 'size': 2},\n",
       "  {'name': 'Avery Brewing Company', 'children': None, 'size': 3},\n",
       "  {'name': 'Ballast Point Brewing Company', 'children': None, 'size': 3},\n",
       "  {'name': 'Baxter Brewing Co.', 'children': None, 'size': 2},\n",
       "  {'name': 'Bear Republic Brewing Co.', 'children': None, 'size': 2},\n",
       "  {'name': 'Berkshire Brewing Company Inc.', 'children': None, 'size': 3},\n",
       "  {'name': 'Blue Hills Brewery', 'children': None, 'size': 2},\n",
       "  {'name': 'Boston Beer Company (Samuel Adams)', 'children': None, 'size': 2},\n",
       "  {'name': 'Boulder Beer / Wilderness Pub', 'children': None, 'size': 3},\n",
       "  {'name': 'Brewery Ommegang', 'children': None, 'size': 4},\n",
       "  {'name': 'Brooklyn Brewery', 'children': None, 'size': 3},\n",
       "  {'name': 'Cambridge Brewing Company', 'children': None, 'size': 1},\n",
       "  {'name': 'Cape Cod Beer', 'children': None, 'size': 1},\n",
       "  {'name': 'Cisco Brewers Inc.', 'children': None, 'size': 3},\n",
       "  {'name': 'Clown Shoes', 'children': None, 'size': 1},\n",
       "  {'name': 'Coastal Extreme Brewing Co.', 'children': None, 'size': 2},\n",
       "  {'name': 'D.L. Geary Brewing Company', 'children': None, 'size': 2},\n",
       "  {'name': 'DC Brau Brewing Co.', 'children': None, 'size': 3},\n",
       "  {'name': 'Dogfish Head Brewery', 'children': None, 'size': 3},\n",
       "  {'name': 'Element Brewing Company', 'children': None, 'size': 4},\n",
       "  {'name': 'Flying Dog Brewery', 'children': None, 'size': 1},\n",
       "  {'name': 'Goose Island Beer Co.', 'children': None, 'size': 3},\n",
       "  {'name': 'Great Divide Brewing Company', 'children': None, 'size': 2},\n",
       "  {'name': \"Gritty McDuff's Brewing Company\", 'children': None, 'size': 2},\n",
       "  {'name': 'Harpoon Brewery & Beer Hall', 'children': None, 'size': 2},\n",
       "  {'name': 'High & Mighty Beer Co.', 'children': None, 'size': 1},\n",
       "  {'name': 'Idle Hands Craft Ales', 'children': None, 'size': 1},\n",
       "  {'name': 'Ipswich Ale Brewery', 'children': None, 'size': 3},\n",
       "  {'name': 'Ithaca Beer Company', 'children': None, 'size': 2},\n",
       "  {'name': \"Jack's Abby Brewing\", 'children': None, 'size': 1},\n",
       "  {'name': 'Kona Brewing Co.', 'children': None, 'size': 2},\n",
       "  {'name': 'Lagunitas Brewing Company', 'children': None, 'size': 1},\n",
       "  {'name': 'Left Hand Brewing Company', 'children': None, 'size': 4},\n",
       "  {'name': 'Long Trail Brewing Co.', 'children': None, 'size': 1},\n",
       "  {'name': 'Mad River Brewing Company', 'children': None, 'size': 6},\n",
       "  {'name': 'Magic Hat Brewing Company', 'children': None, 'size': 3},\n",
       "  {'name': 'Maine Beer Company', 'children': None, 'size': 1},\n",
       "  {'name': 'Matt Brewing Company', 'children': None, 'size': 2},\n",
       "  {'name': 'Mayflower Brewing Company', 'children': None, 'size': 4},\n",
       "  {'name': 'Narragansett Brewing Co.', 'children': None, 'size': 3},\n",
       "  {'name': 'North Coast Brewing Co.', 'children': None, 'size': 3},\n",
       "  {'name': 'Notch Brewing', 'children': None, 'size': 1},\n",
       "  {'name': 'OPA-OPA Steakhouse & Brewery', 'children': None, 'size': 2},\n",
       "  {'name': 'Oskar Blues Brewery & Tasty Weasel Tap Room',\n",
       "   'children': None,\n",
       "   'size': 4},\n",
       "  {'name': \"Otter Creek Brewing / Wolaver's\", 'children': None, 'size': 2},\n",
       "  {'name': 'Port City Brewing', 'children': None, 'size': 2},\n",
       "  {'name': 'Pretty Things Beer & Ale Project', 'children': None, 'size': 4},\n",
       "  {'name': 'Pyramid Breweries, Inc.', 'children': None, 'size': 2},\n",
       "  {'name': 'Shipyard Brewing Co.', 'children': None, 'size': 1},\n",
       "  {'name': 'Shmaltz Brewing Company', 'children': None, 'size': 1},\n",
       "  {'name': 'Sierra Nevada Brewing Co.', 'children': None, 'size': 4},\n",
       "  {'name': 'Sixpoint Brewery', 'children': None, 'size': 1},\n",
       "  {'name': 'Smuttynose Brewing Company', 'children': None, 'size': 3},\n",
       "  {'name': 'Somerville Brewing Company (Slumbrew)',\n",
       "   'children': None,\n",
       "   'size': 1},\n",
       "  {'name': 'The Duck-Rabbit Craft Brewery', 'children': None, 'size': 2},\n",
       "  {'name': 'The Olde Mecklenburg Brewery', 'children': None, 'size': 3},\n",
       "  {'name': \"The People's Pint\", 'children': None, 'size': 1},\n",
       "  {'name': 'Thomas Hooker Brewing Company', 'children': None, 'size': 1},\n",
       "  {'name': 'Three Heads Brewing', 'children': None, 'size': 1},\n",
       "  {'name': 'Throwback Brewery', 'children': None, 'size': 1},\n",
       "  {'name': 'Tree House Brewing Company', 'children': None, 'size': 1},\n",
       "  {'name': 'Tuckerman Brewing Co.', 'children': None, 'size': 2},\n",
       "  {'name': 'Uinta Brewing Company', 'children': None, 'size': 2},\n",
       "  {'name': 'Victory Brewing Company', 'children': None, 'size': 1},\n",
       "  {'name': 'Wachusett Brewing Company', 'children': None, 'size': 3},\n",
       "  {'name': 'Weyerbacher Brewing Co.', 'children': None, 'size': 3},\n",
       "  {'name': 'Widmer Brothers Brewing Company', 'children': None, 'size': 1},\n",
       "  {'name': 'Wormtown Brewing Co.', 'children': None, 'size': 1}],\n",
       " 'size': 70}"
      ]
     },
     "execution_count": 4,
     "metadata": {},
     "output_type": "execute_result"
    }
   ],
   "source": [
    "jsonsToClean = ['styles.json','cities.json']\n",
    "columnsToClean = ['State','City']\n",
    "\n",
    "styles_dict = create_json('styles.json','Style')\n",
    "styles_dict\n",
    "\n",
    "states_dict = create_json('states.json','State')\n",
    "states_dict\n",
    "\n",
    "cities_dict = create_json('cities.json','City')\n",
    "cities_dict\n",
    "\n",
    "breweries_dict = create_json('breweries.json','brewery_name')\n",
    "breweries_dict"
   ]
  },
  {
   "cell_type": "code",
   "execution_count": 5,
   "metadata": {},
   "outputs": [],
   "source": [
    "def create_mongo(final_json,collectionName):\n",
    "    mongo_db = pymongo.MongoClient('localhost', 27017)['BrewsForBubbles']\n",
    "    db_to_add = mongo_db[collectionName]\n",
    "    db_to_add.remove()\n",
    "    db_to_add.insert(json.loads(final_json))\n",
    "    print(final_json)"
   ]
  },
  {
   "cell_type": "code",
   "execution_count": 6,
   "metadata": {},
   "outputs": [
    {
     "name": "stderr",
     "output_type": "stream",
     "text": [
      "C:\\Users\\cflint\\Continuum\\anaconda3\\envs\\PythonData\\lib\\site-packages\\ipykernel_launcher.py:8: DeprecationWarning: remove is deprecated. Use delete_one or delete_many instead.\n",
      "  \n"
     ]
    }
   ],
   "source": [
    "listOfDbs = ['states','cities','breweries','style']\n",
    "newJsons = ['statesBubbles.json','citiesBubbles.json','breweryBubbles.json','styleBubbles.json']\n",
    "\n",
    "for coll,jsnfile in zip(listOfDbs,newJsons):\n",
    "    client = pymongo.MongoClient('localhost', 27017)\n",
    "    db = client['BrewsForBubbles']\n",
    "    collection = db[coll]\n",
    "    collection.remove()\n",
    "    with open(jsnfile) as f:\n",
    "        file_data = json.load(f)\n",
    "\n",
    "    # use collection_currency.insert(file_data) if pymongo version < 3.0\n",
    "    collection.insert_one(file_data)  \n",
    "    client.close()"
   ]
  },
  {
   "cell_type": "code",
   "execution_count": null,
   "metadata": {},
   "outputs": [],
   "source": []
  },
  {
   "cell_type": "code",
   "execution_count": null,
   "metadata": {},
   "outputs": [],
   "source": []
  }
 ],
 "metadata": {
  "kernelspec": {
   "display_name": "Python 3",
   "language": "python",
   "name": "python3"
  },
  "language_info": {
   "codemirror_mode": {
    "name": "ipython",
    "version": 3
   },
   "file_extension": ".py",
   "mimetype": "text/x-python",
   "name": "python",
   "nbconvert_exporter": "python",
   "pygments_lexer": "ipython3",
   "version": "3.6.7"
  }
 },
 "nbformat": 4,
 "nbformat_minor": 2
}
