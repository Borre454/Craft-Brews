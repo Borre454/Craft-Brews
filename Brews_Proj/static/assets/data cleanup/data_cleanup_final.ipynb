{
 "cells": [
  {
   "cell_type": "code",
   "execution_count": 28,
   "metadata": {},
   "outputs": [],
   "source": [
    "# Import Dependencies\n",
    "import pandas as pd\n",
    "from sqlalchemy import create_engine\n",
    "import csv\n",
    "import json\n",
    "import numpy as np\n",
    "import pymongo"
   ]
  },
  {
   "cell_type": "code",
   "execution_count": 29,
   "metadata": {},
   "outputs": [],
   "source": [
    "def create_json(fileLocation,column):\n",
    "    json1_file = open(fileLocation)\n",
    "    json1_str = json1_file.read()\n",
    "    json1_data = json.loads(json1_str)\n",
    "    json1_data\n",
    "\n",
    "    json_df = pd.DataFrame(json1_data).transpose()\n",
    "    # print(json_df)\n",
    "\n",
    "    count = json_df[column].count()\n",
    "    states_dict = {\"name\":\"\", \"children\":[], \"size\":count}\n",
    "    objToAddList = []\n",
    "\n",
    "    for index, row in json_df.iterrows():\n",
    "        objToAdd = {\n",
    "                \"name\": row[column],\n",
    "                \"children\": None,\n",
    "                \"size\": row['Quantity']\n",
    "            }\n",
    "        objToAddList.append(objToAdd)\n",
    "    #     print(row['State'], row['Quantity'])\n",
    "\n",
    "    states_dict[\"children\"] = objToAddList\n",
    "    states_dict[\"name\"] = column\n",
    "\n",
    "\n",
    "    return states_dict"
   ]
  },
  {
   "cell_type": "code",
   "execution_count": null,
   "metadata": {},
   "outputs": [],
   "source": [
    "jsonsToClean = ['styles.json','cities.json']\n",
    "columnsToClean = ['State','City']\n",
    "\n",
    "styles_dict = create_json('styles.json','Style')\n",
    "styles_dict\n",
    "\n",
    "states_dict = create_json('states.json','State')\n",
    "states_dict\n",
    "\n",
    "cities_dict = create_json('cities.json','City')\n",
    "cities_dict\n",
    "\n",
    "# breweries_dict = create_json('breweries.json','brewery_name')\n",
    "# breweries_dict"
   ]
  },
  {
   "cell_type": "code",
   "execution_count": 34,
   "metadata": {},
   "outputs": [],
   "source": [
    "def create_mongo(final_json,collectionName):\n",
    "    mongo_db = pymongo.MongoClient('localhost', 27017)['BrewsForBubbles']\n",
    "    db_to_add = mongo_db[collectionName]\n",
    "    db_to_add.remove()\n",
    "    db_to_add.insert(json.loads(final_json))\n",
    "    print(final_json)"
   ]
  },
  {
   "cell_type": "code",
   "execution_count": 43,
   "metadata": {},
   "outputs": [
    {
     "name": "stderr",
     "output_type": "stream",
     "text": [
      "C:\\Users\\cflint\\Continuum\\anaconda3\\envs\\PythonData\\lib\\site-packages\\ipykernel_launcher.py:8: DeprecationWarning: remove is deprecated. Use delete_one or delete_many instead.\n",
      "  \n"
     ]
    }
   ],
   "source": [
    "listOfDbs = ['states','cities','breweries','style']\n",
    "newJsons = ['statesBubbles.json','citiesBubbles.json','breweryBubbles.json','styleBubbles.json']\n",
    "\n",
    "for coll,jsnfile in zip(listOfDbs,newJsons):\n",
    "    client = pymongo.MongoClient('localhost', 27017)\n",
    "    db = client['BrewsForBubbles']\n",
    "    collection = db[coll]\n",
    "    collection.remove()\n",
    "    with open(jsnfile) as f:\n",
    "        file_data = json.load(f)\n",
    "\n",
    "    # use collection_currency.insert(file_data) if pymongo version < 3.0\n",
    "    collection.insert_one(file_data)  \n",
    "    client.close()"
   ]
  },
  {
   "cell_type": "code",
   "execution_count": null,
   "metadata": {},
   "outputs": [],
   "source": []
  },
  {
   "cell_type": "code",
   "execution_count": null,
   "metadata": {},
   "outputs": [],
   "source": []
  }
 ],
 "metadata": {
  "kernelspec": {
   "display_name": "Python 3",
   "language": "python",
   "name": "python3"
  },
  "language_info": {
   "codemirror_mode": {
    "name": "ipython",
    "version": 3
   },
   "file_extension": ".py",
   "mimetype": "text/x-python",
   "name": "python",
   "nbconvert_exporter": "python",
   "pygments_lexer": "ipython3",
   "version": "3.6.7"
  }
 },
 "nbformat": 4,
 "nbformat_minor": 2
}
