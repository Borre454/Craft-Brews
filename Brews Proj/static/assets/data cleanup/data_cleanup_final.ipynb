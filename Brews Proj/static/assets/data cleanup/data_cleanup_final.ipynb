{
 "cells": [
  {
   "cell_type": "code",
   "execution_count": 2,
   "metadata": {},
   "outputs": [],
   "source": [
    "# Import Dependencies\n",
    "import pandas as pd\n",
    "from sqlalchemy import create_engine\n",
    "import csv\n",
    "import json\n",
    "import numpy as np\n",
    "import pymongo"
   ]
  },
  {
   "cell_type": "code",
   "execution_count": 3,
   "metadata": {},
   "outputs": [],
   "source": [
    "def create_json(fileLocation,column):\n",
    "    json1_file = open(fileLocation)\n",
    "    json1_str = json1_file.read()\n",
    "    json1_data = json.loads(json1_str)\n",
    "    json1_data\n",
    "\n",
    "    json_df = pd.DataFrame(json1_data).transpose()\n",
    "    # print(json_df)\n",
    "\n",
    "    count = json_df[column].count()\n",
    "    states_dict = {\"name\":\"\", \"children\":[], \"size\":count}\n",
    "    objToAddList = []\n",
    "\n",
    "    for index, row in json_df.iterrows():\n",
    "        objToAdd = {\n",
    "                \"name\": row[column],\n",
    "                \"children\": None,\n",
    "                \"size\": row['Quantity']\n",
    "            }\n",
    "        objToAddList.append(objToAdd)\n",
    "    #     print(row['State'], row['Quantity'])\n",
    "\n",
    "    states_dict[\"children\"] = objToAddList\n",
    "    states_dict[\"name\"] = column\n",
    "\n",
    "\n",
    "    return states_dict"
   ]
  },
  {
   "cell_type": "code",
   "execution_count": 4,
   "metadata": {},
   "outputs": [
    {
     "data": {
      "text/plain": [
       "{'name': 'Style',\n",
       " 'children': [{'name': 'Altbier', 'children': None, 'size': 3},\n",
       "  {'name': 'American Adjunct Lager', 'children': None, 'size': 1},\n",
       "  {'name': 'American Amber / Red Ale', 'children': None, 'size': 6},\n",
       "  {'name': 'American Barleywine', 'children': None, 'size': 1},\n",
       "  {'name': 'American Black Ale', 'children': None, 'size': 3},\n",
       "  {'name': 'American Blonde Ale', 'children': None, 'size': 4},\n",
       "  {'name': 'American Dark Wheat Ale', 'children': None, 'size': 1},\n",
       "  {'name': 'American Double / Imperial IPA', 'children': None, 'size': 14},\n",
       "  {'name': 'American Double / Imperial Pilsner', 'children': None, 'size': 1},\n",
       "  {'name': 'American Double / Imperial Stout', 'children': None, 'size': 1},\n",
       "  {'name': 'American IPA', 'children': None, 'size': 24},\n",
       "  {'name': 'American Pale Ale (APA)', 'children': None, 'size': 10},\n",
       "  {'name': 'American Pale Lager', 'children': None, 'size': 2},\n",
       "  {'name': 'American Pale Wheat Ale', 'children': None, 'size': 4},\n",
       "  {'name': 'American Porter', 'children': None, 'size': 2},\n",
       "  {'name': 'American Stout', 'children': None, 'size': 1},\n",
       "  {'name': 'Belgian IPA', 'children': None, 'size': 3},\n",
       "  {'name': 'Belgian Pale Ale', 'children': None, 'size': 4},\n",
       "  {'name': 'Belgian Strong Dark Ale', 'children': None, 'size': 1},\n",
       "  {'name': 'Belgian Strong Pale Ale', 'children': None, 'size': 3},\n",
       "  {'name': 'Chile Beer', 'children': None, 'size': 1},\n",
       "  {'name': 'Cream Ale', 'children': None, 'size': 1},\n",
       "  {'name': 'Czech Pilsener', 'children': None, 'size': 2},\n",
       "  {'name': 'Doppelbock', 'children': None, 'size': 1},\n",
       "  {'name': 'Dubbel', 'children': None, 'size': 1},\n",
       "  {'name': 'English Barleywine', 'children': None, 'size': 4},\n",
       "  {'name': 'English Bitter', 'children': None, 'size': 1},\n",
       "  {'name': 'English Brown Ale', 'children': None, 'size': 1},\n",
       "  {'name': 'English India Pale Ale (IPA)', 'children': None, 'size': 3},\n",
       "  {'name': 'English Pale Ale', 'children': None, 'size': 4},\n",
       "  {'name': 'English Porter', 'children': None, 'size': 3},\n",
       "  {'name': 'English Strong Ale', 'children': None, 'size': 2},\n",
       "  {'name': 'Extra Special / Strong Bitter (ESB)', 'children': None, 'size': 1},\n",
       "  {'name': 'Fruit / Vegetable Beer', 'children': None, 'size': 5},\n",
       "  {'name': 'German Pilsener', 'children': None, 'size': 4},\n",
       "  {'name': 'Hefeweizen', 'children': None, 'size': 2},\n",
       "  {'name': 'Herbed / Spiced Beer', 'children': None, 'size': 1},\n",
       "  {'name': 'Irish Dry Stout', 'children': None, 'size': 1},\n",
       "  {'name': 'Kristalweizen', 'children': None, 'size': 1},\n",
       "  {'name': 'KÃ¶lsch', 'children': None, 'size': 2},\n",
       "  {'name': 'Maibock / Helles Bock', 'children': None, 'size': 1},\n",
       "  {'name': 'Munich Dunkel Lager', 'children': None, 'size': 1},\n",
       "  {'name': 'Munich Helles Lager', 'children': None, 'size': 1},\n",
       "  {'name': 'Oatmeal Stout', 'children': None, 'size': 1},\n",
       "  {'name': 'Old Ale', 'children': None, 'size': 1},\n",
       "  {'name': 'Russian Imperial Stout', 'children': None, 'size': 1},\n",
       "  {'name': 'Saison / Farmhouse Ale', 'children': None, 'size': 6},\n",
       "  {'name': 'Scotch Ale / Wee Heavy', 'children': None, 'size': 2},\n",
       "  {'name': 'Tripel', 'children': None, 'size': 1},\n",
       "  {'name': 'Vienna Lager', 'children': None, 'size': 2},\n",
       "  {'name': 'Witbier', 'children': None, 'size': 5}],\n",
       " 'size': 51}"
      ]
     },
     "execution_count": 4,
     "metadata": {},
     "output_type": "execute_result"
    }
   ],
   "source": [
    "jsonsToClean = ['styles.json','cities.json']\n",
    "columnsToClean = ['State','City']\n",
    "\n",
    "my_dict = create_json('styles.json','Style')\n",
    "my_dict"
   ]
  },
  {
   "cell_type": "code",
   "execution_count": 1,
   "metadata": {},
   "outputs": [],
   "source": [
    "def create_mongo(final_json):\n",
    "    print(final_json)"
   ]
  },
  {
   "cell_type": "code",
   "execution_count": null,
   "metadata": {},
   "outputs": [],
   "source": []
  }
 ],
 "metadata": {
  "kernelspec": {
   "display_name": "Python 3",
   "language": "python",
   "name": "python3"
  },
  "language_info": {
   "codemirror_mode": {
    "name": "ipython",
    "version": 3
   },
   "file_extension": ".py",
   "mimetype": "text/x-python",
   "name": "python",
   "nbconvert_exporter": "python",
   "pygments_lexer": "ipython3",
   "version": "3.6.7"
  }
 },
 "nbformat": 4,
 "nbformat_minor": 2
}
