{
 "cells": [
  {
   "cell_type": "code",
   "execution_count": 53,
   "metadata": {},
   "outputs": [],
   "source": [
    "import json\n",
    "from pymongo import MongoClient\n",
    "\n",
    "\n",
    "client = MongoClient('localhost', 27017)\n",
    "db = client['BrewsForBubbles']\n",
    "\n",
    "mongoTables = ['states','breweries','cities','style']\n",
    "\n",
    "def create_mongo_bubbles(currentTable):\n",
    "    current_collection = db[currentTable]\n",
    "\n",
    "    with open('../static/data/JSON/'+currentTable+'Bubbles.json') as f:\n",
    "        file_data = json.load(f)\n",
    "\n",
    "    # use collection_currency.insert(file_data) if pymongo version < 3.0\n",
    "    current_collection.remove()\n",
    "    current_collection.insert(file_data)  \n",
    "    client.close()"
   ]
  },
  {
   "cell_type": "code",
   "execution_count": 54,
   "metadata": {},
   "outputs": [
    {
     "name": "stderr",
     "output_type": "stream",
     "text": [
      "C:\\Users\\cflint\\Continuum\\anaconda3\\envs\\PythonData\\lib\\site-packages\\ipykernel_launcher.py:17: DeprecationWarning: remove is deprecated. Use delete_one or delete_many instead.\n",
      "C:\\Users\\cflint\\Continuum\\anaconda3\\envs\\PythonData\\lib\\site-packages\\ipykernel_launcher.py:18: DeprecationWarning: insert is deprecated. Use insert_one or insert_many instead.\n"
     ]
    }
   ],
   "source": [
    "for mt in mongoTables: \n",
    "    create_mongo_bubbles(mt)"
   ]
  },
  {
   "cell_type": "code",
   "execution_count": 50,
   "metadata": {},
   "outputs": [
    {
     "name": "stdout",
     "output_type": "stream",
     "text": [
      "{'name': 'State', 'children': [{'name': ' CA', 'children': None, 'size': 21}, {'name': ' CO', 'children': None, 'size': 16}, {'name': ' CT', 'children': None, 'size': 1}, {'name': ' DC', 'children': None, 'size': 3}, {'name': ' DE', 'children': None, 'size': 3}, {'name': ' HI', 'children': None, 'size': 2}, {'name': ' IL', 'children': None, 'size': 3}, {'name': ' LA', 'children': None, 'size': 2}, {'name': ' MA', 'children': None, 'size': 43}, {'name': ' MD', 'children': None, 'size': 1}, {'name': ' ME', 'children': None, 'size': 10}, {'name': ' NC', 'children': None, 'size': 5}, {'name': ' NH', 'children': None, 'size': 6}, {'name': ' NY', 'children': None, 'size': 14}, {'name': ' OR', 'children': None, 'size': 1}, {'name': ' PA', 'children': None, 'size': 4}, {'name': ' RI', 'children': None, 'size': 5}, {'name': ' UT', 'children': None, 'size': 2}, {'name': ' VA', 'children': None, 'size': 2}, {'name': ' VT', 'children': None, 'size': 6}, {'name': ' WA', 'children': None, 'size': 2}], 'size': 21}\n"
     ]
    },
    {
     "name": "stderr",
     "output_type": "stream",
     "text": [
      "C:\\Users\\cflint\\Continuum\\anaconda3\\envs\\PythonData\\lib\\site-packages\\ipykernel_launcher.py:7: DeprecationWarning: database_names is deprecated. Use list_database_names instead.\n",
      "  import sys\n",
      "C:\\Users\\cflint\\Continuum\\anaconda3\\envs\\PythonData\\lib\\site-packages\\ipykernel_launcher.py:7: DeprecationWarning: collection_names is deprecated. Use list_collection_names instead.\n",
      "  import sys\n"
     ]
    }
   ],
   "source": [
    "# setup mongo connection\n",
    "conn = \"mongodb://localhost:27017\"\n",
    "client = pymongo.MongoClient(conn)\n",
    "\n",
    "client = pymongo.MongoClient(\"localhost\", 27017, maxPoolSize=50)\n",
    "d = dict((db, [collection for collection in client[db].collection_names()])\n",
    "        for db in client.database_names())\n",
    "\n",
    "# print(json.dumps(d[\"BrewsForBubbles\"][\"States\"]))\n",
    "db = client.BrewsForBubbles\n",
    "StatesForBubbles = db.States\n",
    "# print(StatesForBubbles)\n",
    "\n",
    "sfBubbles = list(StatesForBubbles.find())\n",
    "del sfBubbles[0]['_id']\n",
    "print(sfBubbles[0])"
   ]
  },
  {
   "cell_type": "code",
   "execution_count": null,
   "metadata": {},
   "outputs": [],
   "source": []
  }
 ],
 "metadata": {
  "kernelspec": {
   "display_name": "Python 3",
   "language": "python",
   "name": "python3"
  },
  "language_info": {
   "codemirror_mode": {
    "name": "ipython",
    "version": 3
   },
   "file_extension": ".py",
   "mimetype": "text/x-python",
   "name": "python",
   "nbconvert_exporter": "python",
   "pygments_lexer": "ipython3",
   "version": "3.6.7"
  }
 },
 "nbformat": 4,
 "nbformat_minor": 2
}
