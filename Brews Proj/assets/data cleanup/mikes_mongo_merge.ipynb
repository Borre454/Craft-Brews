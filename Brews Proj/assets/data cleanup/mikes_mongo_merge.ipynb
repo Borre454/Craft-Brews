{
 "cells": [
  {
   "cell_type": "code",
   "execution_count": 1,
   "metadata": {},
   "outputs": [],
   "source": [
    "import pandas as pd "
   ]
  },
  {
   "cell_type": "code",
   "execution_count": 2,
   "metadata": {},
   "outputs": [
    {
     "data": {
      "text/html": [
       "<div>\n",
       "<style scoped>\n",
       "    .dataframe tbody tr th:only-of-type {\n",
       "        vertical-align: middle;\n",
       "    }\n",
       "\n",
       "    .dataframe tbody tr th {\n",
       "        vertical-align: top;\n",
       "    }\n",
       "\n",
       "    .dataframe thead th {\n",
       "        text-align: right;\n",
       "    }\n",
       "</style>\n",
       "<table border=\"1\" class=\"dataframe\">\n",
       "  <thead>\n",
       "    <tr style=\"text-align: right;\">\n",
       "      <th></th>\n",
       "      <th>Beer</th>\n",
       "      <th>Brewery</th>\n",
       "      <th>Location</th>\n",
       "      <th>Table</th>\n",
       "      <th>Score</th>\n",
       "      <th>rAvg</th>\n",
       "      <th>Ratings</th>\n",
       "      <th>Bro Score</th>\n",
       "      <th>Style</th>\n",
       "      <th>ABV</th>\n",
       "      <th>URL</th>\n",
       "    </tr>\n",
       "  </thead>\n",
       "  <tbody>\n",
       "    <tr>\n",
       "      <th>0</th>\n",
       "      <td>Amber</td>\n",
       "      <td>Abita Brewing Co.</td>\n",
       "      <td>Abita Springs, LA</td>\n",
       "      <td>43.0</td>\n",
       "      <td>78</td>\n",
       "      <td>3.44</td>\n",
       "      <td>880</td>\n",
       "      <td>90.0</td>\n",
       "      <td>Vienna Lager</td>\n",
       "      <td>4.50%</td>\n",
       "      <td>http://beeradvocate.com/beer/profile/3/5</td>\n",
       "    </tr>\n",
       "    <tr>\n",
       "      <th>1</th>\n",
       "      <td>Purple Haze</td>\n",
       "      <td>Abita Brewing Co.</td>\n",
       "      <td>Abita Springs, LA</td>\n",
       "      <td>43.0</td>\n",
       "      <td>74</td>\n",
       "      <td>3.22</td>\n",
       "      <td>1585</td>\n",
       "      <td>88.0</td>\n",
       "      <td>Fruit / Vegetable Beer</td>\n",
       "      <td>4.20%</td>\n",
       "      <td>http://beeradvocate.com/beer/profile/3/7</td>\n",
       "    </tr>\n",
       "    <tr>\n",
       "      <th>2</th>\n",
       "      <td>Allagash Black - Bourbon Barrel Aged</td>\n",
       "      <td>Allagash Brewing Company</td>\n",
       "      <td>Portland, ME</td>\n",
       "      <td>19.0</td>\n",
       "      <td>92</td>\n",
       "      <td>4.16</td>\n",
       "      <td>194</td>\n",
       "      <td>NaN</td>\n",
       "      <td>Belgian Strong Dark Ale</td>\n",
       "      <td>9.30%</td>\n",
       "      <td>http://beeradvocate.com/beer/profile/4/48279</td>\n",
       "    </tr>\n",
       "    <tr>\n",
       "      <th>3</th>\n",
       "      <td>Allagash Blonde</td>\n",
       "      <td>Allagash Brewing Company</td>\n",
       "      <td>Portland, ME</td>\n",
       "      <td>19.0</td>\n",
       "      <td>90</td>\n",
       "      <td>4.05</td>\n",
       "      <td>61</td>\n",
       "      <td>NaN</td>\n",
       "      <td>Belgian Pale Ale</td>\n",
       "      <td>6.86%</td>\n",
       "      <td>http://beeradvocate.com/beer/profile/4/60712</td>\n",
       "    </tr>\n",
       "    <tr>\n",
       "      <th>4</th>\n",
       "      <td>Allagash Interlude</td>\n",
       "      <td>Allagash Brewing Company</td>\n",
       "      <td>Portland, ME</td>\n",
       "      <td>19.0</td>\n",
       "      <td>94</td>\n",
       "      <td>4.22</td>\n",
       "      <td>664</td>\n",
       "      <td>94.0</td>\n",
       "      <td>Saison / Farmhouse Ale</td>\n",
       "      <td>9.50%</td>\n",
       "      <td>http://beeradvocate.com/beer/profile/4/27837</td>\n",
       "    </tr>\n",
       "  </tbody>\n",
       "</table>\n",
       "</div>"
      ],
      "text/plain": [
       "                                   Beer                   Brewery  \\\n",
       "0                                 Amber         Abita Brewing Co.   \n",
       "1                           Purple Haze         Abita Brewing Co.   \n",
       "2  Allagash Black - Bourbon Barrel Aged  Allagash Brewing Company   \n",
       "3                       Allagash Blonde  Allagash Brewing Company   \n",
       "4                    Allagash Interlude  Allagash Brewing Company   \n",
       "\n",
       "            Location  Table  Score  rAvg  Ratings  Bro Score  \\\n",
       "0  Abita Springs, LA   43.0     78  3.44      880       90.0   \n",
       "1  Abita Springs, LA   43.0     74  3.22     1585       88.0   \n",
       "2       Portland, ME   19.0     92  4.16      194        NaN   \n",
       "3       Portland, ME   19.0     90  4.05       61        NaN   \n",
       "4       Portland, ME   19.0     94  4.22      664       94.0   \n",
       "\n",
       "                     Style    ABV  \\\n",
       "0             Vienna Lager  4.50%   \n",
       "1   Fruit / Vegetable Beer  4.20%   \n",
       "2  Belgian Strong Dark Ale  9.30%   \n",
       "3         Belgian Pale Ale  6.86%   \n",
       "4   Saison / Farmhouse Ale  9.50%   \n",
       "\n",
       "                                            URL  \n",
       "0      http://beeradvocate.com/beer/profile/3/5  \n",
       "1      http://beeradvocate.com/beer/profile/3/7  \n",
       "2  http://beeradvocate.com/beer/profile/4/48279  \n",
       "3  http://beeradvocate.com/beer/profile/4/60712  \n",
       "4  http://beeradvocate.com/beer/profile/4/27837  "
      ]
     },
     "execution_count": 2,
     "metadata": {},
     "output_type": "execute_result"
    }
   ],
   "source": [
    "beer_fest_df=pd.read_csv(\"../data/craft_beer_fest_data3.csv\", encoding=\"utf-8\")\n",
    "beer_fest_df.head()"
   ]
  },
  {
   "cell_type": "code",
   "execution_count": 3,
   "metadata": {},
   "outputs": [],
   "source": [
    "import pymongo"
   ]
  },
  {
   "cell_type": "code",
   "execution_count": 4,
   "metadata": {},
   "outputs": [],
   "source": [
    "#Establish connection\n",
    "conn = 'mongodb://localhost:27017'\n",
    "client = pymongo.MongoClient(conn)"
   ]
  },
  {
   "cell_type": "code",
   "execution_count": 6,
   "metadata": {},
   "outputs": [],
   "source": [
    "#Create schema\n",
    "BeerDB = client[\"Brews\"]\n",
    "#Drop artist collection\n",
    "BeerDB.beers.drop()\n",
    "#Create collection\n",
    "Beer_col = BeerDB[\"beers\"]"
   ]
  },
  {
   "cell_type": "code",
   "execution_count": 7,
   "metadata": {},
   "outputs": [],
   "source": [
    "xds = Beer_col.insert_many(beer_fest_df.to_dict('records'))"
   ]
  },
  {
   "cell_type": "code",
   "execution_count": null,
   "metadata": {},
   "outputs": [],
   "source": []
  }
 ],
 "metadata": {
  "kernelspec": {
   "display_name": "Python [conda env:py36]",
   "language": "python",
   "name": "conda-env-py36-py"
  },
  "language_info": {
   "codemirror_mode": {
    "name": "ipython",
    "version": 3
   },
   "file_extension": ".py",
   "mimetype": "text/x-python",
   "name": "python",
   "nbconvert_exporter": "python",
   "pygments_lexer": "ipython3",
   "version": "3.6.7"
  }
 },
 "nbformat": 4,
 "nbformat_minor": 2
}
